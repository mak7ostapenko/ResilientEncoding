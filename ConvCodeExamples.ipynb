{
 "cells": [
  {
   "cell_type": "code",
   "execution_count": 6,
   "metadata": {},
   "outputs": [],
   "source": [
    "import numpy as np\n",
    "\n",
    "from src.ConvCodes.coder import Coder\n",
    "from src.ConvCodes.code_tree import build_code_tree"
   ]
  },
  {
   "cell_type": "markdown",
   "metadata": {},
   "source": [
    "## Coder Response"
   ]
  },
  {
   "cell_type": "code",
   "execution_count": 7,
   "metadata": {},
   "outputs": [],
   "source": [
    "num_inputs = 1\n",
    "num_outputs = 2\n",
    "code_len = 4\n",
    "summator_polynoms = np.array([\n",
    "    [1, 1, 1, 1],\n",
    "    [1, 0, 0, 1],\n",
    "])"
   ]
  },
  {
   "cell_type": "code",
   "execution_count": 8,
   "metadata": {},
   "outputs": [],
   "source": [
    "coder = Coder(num_inputs, num_outputs, code_len, summator_polynoms)\n",
    "\n",
    "input_sequence = np.array([0, 0, 0, 1])\n",
    "response = coder.encode(input_sequence)"
   ]
  },
  {
   "cell_type": "code",
   "execution_count": 9,
   "metadata": {},
   "outputs": [
    {
     "name": "stdout",
     "output_type": "stream",
     "text": [
      "inp len =  4\n",
      "resp len =  8\n",
      "res =  [1. 1. 1. 0. 1. 0. 1. 1.]\n"
     ]
    }
   ],
   "source": [
    "assert np.array(response == [1, 1, 1, 0, 1, 0, 1, 1]).all() == True\n",
    "\n",
    "print('inp len = ', len(input_sequence))\n",
    "print('resp len = ', len(response))\n",
    "print('res = ', response)"
   ]
  },
  {
   "cell_type": "markdown",
   "metadata": {},
   "source": [
    "## Code Tree"
   ]
  },
  {
   "cell_type": "code",
   "execution_count": 12,
   "metadata": {},
   "outputs": [
    {
     "name": "stdout",
     "output_type": "stream",
     "text": [
      "\n",
      "               _____________18_____________\n",
      "              /                            \\\n",
      "       _____111_____                  _____888_____\n",
      "      /             \\                /             \\\n",
      "   _881_           _118_          _111_           _888_\n",
      "  /     \\         /     \\        /     \\         /     \\\n",
      "118     881     888     111    881     118     111     888\n",
      "\n"
     ]
    }
   ],
   "source": [
    "num_inputs = 1\n",
    "num_outputs = 3\n",
    "code_len = 3\n",
    "\n",
    "summator_polynoms = np.array([\n",
    "        [1, 1, 1],\n",
    "        [1, 1, 1],\n",
    "        [1, 0, 1]\n",
    "    ])\n",
    "\n",
    "coder = Coder(num_inputs, num_outputs, code_len, summator_polynoms)\n",
    "code_tree = build_code_tree(coder)\n",
    "print(code_tree)"
   ]
  },
  {
   "cell_type": "code",
   "execution_count": null,
   "metadata": {},
   "outputs": [],
   "source": []
  },
  {
   "cell_type": "code",
   "execution_count": null,
   "metadata": {},
   "outputs": [],
   "source": []
  }
 ],
 "metadata": {
  "kernelspec": {
   "display_name": "Python 3",
   "language": "python",
   "name": "python3"
  },
  "language_info": {
   "codemirror_mode": {
    "name": "ipython",
    "version": 3
   },
   "file_extension": ".py",
   "mimetype": "text/x-python",
   "name": "python",
   "nbconvert_exporter": "python",
   "pygments_lexer": "ipython3",
   "version": "3.6.9"
  }
 },
 "nbformat": 4,
 "nbformat_minor": 2
}
